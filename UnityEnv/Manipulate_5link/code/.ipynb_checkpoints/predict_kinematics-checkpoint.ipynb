{
 "cells": [
  {
   "cell_type": "code",
   "execution_count": 1,
   "metadata": {
    "ExecuteTime": {
     "end_time": "2020-05-08T05:55:58.321724Z",
     "start_time": "2020-05-08T05:55:55.604539Z"
    }
   },
   "outputs": [
    {
     "name": "stdout",
     "output_type": "stream",
     "text": [
      "device :  cuda\n",
      "num gpu :  1\n"
     ]
    }
   ],
   "source": [
    "import numpy as np\n",
    "import random\n",
    "import matplotlib.pyplot as plt\n",
    "import pandas as pd\n",
    "import time\n",
    "import math\n",
    "import socket\n",
    "\n",
    "from deap import algorithms\n",
    "from deap import base\n",
    "from deap import benchmarks\n",
    "from deap import cma\n",
    "from deap import creator\n",
    "from deap import tools\n",
    "\n",
    "import torch \n",
    "import torch.utils.data as data\n",
    "from torch.utils.data import DataLoader\n",
    "import torch.nn as nn\n",
    "import torch.nn.functional as F\n",
    "import torch.optim as optim\n",
    "from torch.autograd import grad\n",
    "\n",
    "import sys\n",
    "sys.path.append(\"/Users/yashima/HKlab/modules_HKlab/\")\n",
    "import sim2d2link as sim\n",
    "import helper as hp"
   ]
  },
  {
   "cell_type": "code",
   "execution_count": 2,
   "metadata": {
    "ExecuteTime": {
     "end_time": "2020-05-08T05:55:58.379689Z",
     "start_time": "2020-05-08T05:55:58.374692Z"
    }
   },
   "outputs": [
    {
     "name": "stdout",
     "output_type": "stream",
     "text": [
      "device :  cuda\n",
      "num gpu :  1\n"
     ]
    }
   ],
   "source": [
    "import os\n",
    "os.environ[\"CUDA_VISIBLE_DEVICES\"]=\"0,1,2,3\"\n",
    "device = 'cuda' if torch.cuda.is_available() else 'cpu'\n",
    "# device = torch.device('cuda') \n",
    "print('device : ', device)\n",
    "print('num gpu : ', torch.cuda.device_count())"
   ]
  },
  {
   "cell_type": "code",
   "execution_count": 56,
   "metadata": {
    "ExecuteTime": {
     "end_time": "2020-05-08T06:29:01.138064Z",
     "start_time": "2020-05-08T06:29:00.977163Z"
    }
   },
   "outputs": [
    {
     "data": {
      "text/plain": [
       "<All keys matched successfully>"
      ]
     },
     "execution_count": 56,
     "metadata": {},
     "output_type": "execute_result"
    }
   ],
   "source": [
    "model_fk = hp.BasicRegressor2()\n",
    "model_fk.layer1 = nn.Linear(5, 2048)\n",
    "model_fk.last = nn.Linear(2048, 3)\n",
    "model_fk = nn.DataParallel(model_fk).to(device).eval().float()\n",
    "model_fk.load_state_dict(torch.load(\"/Users/yashima/HKlab/Robotics/models/model_fk.pth\"))"
   ]
  },
  {
   "cell_type": "code",
   "execution_count": 57,
   "metadata": {
    "ExecuteTime": {
     "end_time": "2020-05-08T06:29:01.412090Z",
     "start_time": "2020-05-08T06:29:01.396101Z"
    },
    "code_folding": [
     19,
     34
    ]
   },
   "outputs": [],
   "source": [
    "def fk(init_theta1, init_theta2, init_theta3, init_theta4, init_theta5,\n",
    "           a1, a2, a3, a4, a5):\n",
    "    additional_cost = 0\n",
    "    next_theta1 = np.clip(init_theta1 + a1, -180, 180)\n",
    "    next_theta2 = np.clip(init_theta2 + a2, 0, 120)\n",
    "    next_theta3 = np.clip(init_theta3 + a3, -180, 0)\n",
    "    next_theta4 = np.clip(init_theta4 + a4, -180, 180)\n",
    "    next_theta5 = np.clip(init_theta5 + a5, -160, 60)\n",
    "    additional_cost += 1e2 if ((init_theta1+a1<-180)or(init_theta1+a1>180)) else 0\n",
    "    additional_cost += 1e2 if ((init_theta2+a2<0)or(init_theta2+a2>120)) else 0\n",
    "    additional_cost += 1e2 if ((init_theta3+a3<-180)or(init_theta3+a3>0)) else 0\n",
    "    additional_cost += 1e2 if ((init_theta4+a4<-180)or(init_theta4+a4>180)) else 0\n",
    "    additional_cost += 1e2 if ((init_theta5+a5<-160)or(init_theta5+a5>60)) else 0\n",
    "    \n",
    "    \n",
    "    out = model_fk(torch.tensor([[next_theta1, next_theta2, next_theta3, next_theta4, next_theta5]]).float()/360)\n",
    "    pos_pred = out.cpu().detach().numpy()[0]\n",
    "    return next_theta1, next_theta2, next_theta3, next_theta4, next_theta5, pos_pred, additional_cost\n",
    "\n",
    "# def evaluate(individual):\n",
    "#     regulation_penalty = 0\n",
    "#     a01, a02, a03, a04, a05, a11, a12, a13, a14, a15 = individual\n",
    "#     theta11, theta12, theta13, theta14, theta15, pos_pred, additional_cost = fk(\n",
    "#         INIT_THETA1, INIT_THETA2, INIT_THETA3, INIT_THETA4, INIT_THETA5,\n",
    "#         a01, a02, a03, a04, a05)\n",
    "#     cost1 = np.linalg.norm(pos_pred-POS_GOAL1)\n",
    "#     regulation_penalty += additional_cost\n",
    "#     theta21, theta22, theta23, theta24, theta25, pos_pred, additional_cost = fk(\n",
    "#         theta11, theta12, theta13, theta14, theta15,\n",
    "#         a11, a12, a13, a14, a15)\n",
    "#     cost2 = np.linalg.norm(pos_pred-POS_GOAL2)\n",
    "#     regulation_penalty += additional_cost    \n",
    "#     return cost1+cost2+regulation_penalty, \n",
    "\n",
    "# def evaluate(individual):\n",
    "#     regulation_penalty = 0\n",
    "#     a01, a02, a03, a04, a05 = individual\n",
    "#     theta11, theta12, theta13, theta14, theta15, pos_pred, additional_cost = fk(\n",
    "#         INIT_THETA1, INIT_THETA2, INIT_THETA3, INIT_THETA4, INIT_THETA5,\n",
    "#         a01, a02, a03, a04, a05)\n",
    "#     cost1 = np.linalg.norm(pos_pred-POS_GOAL1)\n",
    "#     regulation_penalty += additional_cost    \n",
    "#     return cost1+regulation_penalty,\n",
    "\n",
    "def evaluate(individual, init_theta, pos_goal):\n",
    "    regulation_penalty = 0\n",
    "    a01, a02, a03, a04, a05 = individual\n",
    "    theta11, theta12, theta13, theta14, theta15, pos_pred, additional_cost = fk(\n",
    "        init_theta[0], init_theta[1], init_theta[2], init_theta[3], init_theta[4], \n",
    "        a01, a02, a03, a04, a05)\n",
    "    cost1 = np.linalg.norm(pos_pred-pos_goal)\n",
    "    regulation_penalty += additional_cost\n",
    "    \n",
    "    return cost1+regulation_penalty,"
   ]
  },
  {
   "cell_type": "code",
   "execution_count": 58,
   "metadata": {
    "ExecuteTime": {
     "end_time": "2020-05-08T06:29:01.944292Z",
     "start_time": "2020-05-08T06:29:01.927303Z"
    }
   },
   "outputs": [],
   "source": [
    "def solve(IND_DIM, NPOP, NGEN, init_theta, pos_goal):\n",
    "    t1 = time.time() \n",
    "    np.random.seed(64)\n",
    "\n",
    "    creator.create(\"FitnessMin\", base.Fitness, weights=(-1.0,))\n",
    "    creator.create(\"Individual\", np.ndarray, fitness=creator.FitnessMin)\n",
    "    strategy = cma.Strategy(centroid=[0.0]*IND_DIM, sigma=1.0, lambda_=NPOP)  # cnetroid: \"mu\", sigma: \"sigma\"\n",
    "\n",
    "    toolbox = base.Toolbox()\n",
    "    toolbox.register(\"generate\", strategy.generate, creator.Individual)\n",
    "    toolbox.register(\"update\", strategy.update)\n",
    "    toolbox.register(\"evaluate\", evaluate, init_theta=init_theta,pos_goal=pos_goal)\n",
    "    \n",
    "    \n",
    "    \n",
    "    halloffame = tools.HallOfFame(1, similar=np.array_equal)\n",
    "\n",
    "    mean_fitness = []\n",
    "    halloffame_array = []\n",
    "    C_array = []\n",
    "    centroid_array = []\n",
    "    stats = tools.Statistics(lambda ind: ind.fitness.values)\n",
    "    stats.register(\"min\", np.min, axis=0)\n",
    "    stats.register(\"max\", np.max, axis=0)\n",
    "    logbook = tools.Logbook()\n",
    "    logbook.header = [\"gen\", \"nevals\"] + (stats.fields if stats else [])\n",
    "    fitness_history = []\n",
    "\n",
    "    for gen in range(NGEN):\n",
    "        stack_fitness = []\n",
    "        population = toolbox.generate()\n",
    "        fitnesses = toolbox.map(toolbox.evaluate, population)\n",
    "        for ind, fit in zip(population, fitnesses):\n",
    "            ind.fitness.values = fit\n",
    "            stack_fitness.append(fit)         \n",
    "        toolbox.update(population)\n",
    "        halloffame.update(population)\n",
    "\n",
    "        record = stats.compile(population) if stats is not None else {}\n",
    "        logbook.record(gen=gen, nevals=len(population), **record)\n",
    "        print(logbook.stream)\n",
    "\n",
    "    t2 = time.time() \n",
    "    elapsed_time = t2-t1\n",
    "    print(f\"solving time: {elapsed_time:.3f}s\")\n",
    "    \n",
    "    id_best = 0\n",
    "    eval_best = 1e10\n",
    "    for i in range(len(population)):\n",
    "        eval = sum(toolbox.evaluate(population[i]))\n",
    "        if eval < eval_best:\n",
    "            id_best = i\n",
    "            eval_best = eval\n",
    "            \n",
    "    \n",
    "    \n",
    "    return population[id_best]"
   ]
  },
  {
   "cell_type": "code",
   "execution_count": 59,
   "metadata": {
    "ExecuteTime": {
     "end_time": "2020-05-08T06:29:06.058740Z",
     "start_time": "2020-05-08T06:29:06.048746Z"
    }
   },
   "outputs": [],
   "source": [
    "def solve_sequence(solver_params, init_theta, pos_goals):\n",
    "    all_commands = []\n",
    "    for i in range(len(pos_goals)):\n",
    "        conditions = {\"init_theta\":init_theta, \"pos_goal\":pos_goals[i]}\n",
    "        solver_params.update(conditions)\n",
    "        command = solve(**solver_params)\n",
    "        init_theta = list(np.array(init_theta)+np.array(command))\n",
    "        all_commands += list(command)\n",
    "        if i!=0: all_commands[5*i:5*(i+1)] = list(np.array(all_commands[5*(i-1):5*i]) + np.array(all_commands[5*i:5*(i+1)]))\n",
    "    return all_commands"
   ]
  },
  {
   "cell_type": "code",
   "execution_count": 68,
   "metadata": {
    "ExecuteTime": {
     "end_time": "2020-05-08T07:09:44.449893Z",
     "start_time": "2020-05-08T07:09:38.458758Z"
    }
   },
   "outputs": [
    {
     "name": "stderr",
     "output_type": "stream",
     "text": [
      "C:\\Users\\yashima\\Anaconda3\\envs\\torch-gpu\\lib\\site-packages\\deap\\creator.py:138: RuntimeWarning: A class named 'FitnessMin' has already been created and it will be overwritten. Consider deleting previous creation of that class or rename it.\n",
      "  warnings.warn(\"A class named '{0}' has already been created and it \"\n",
      "C:\\Users\\yashima\\Anaconda3\\envs\\torch-gpu\\lib\\site-packages\\deap\\creator.py:138: RuntimeWarning: A class named 'Individual' has already been created and it will be overwritten. Consider deleting previous creation of that class or rename it.\n",
      "  warnings.warn(\"A class named '{0}' has already been created and it \"\n"
     ]
    },
    {
     "name": "stdout",
     "output_type": "stream",
     "text": [
      "gen\tnevals\tmin         \tmax           \n",
      "0  \t6     \t[5.30706709]\t[105.30923409]\n",
      "1  \t6     \t[5.1524271] \t[205.28615226]\n",
      "2  \t6     \t[5.05204185]\t[105.02097272]\n",
      "3  \t6     \t[5.01678636]\t[105.14023244]\n",
      "4  \t6     \t[5.08648676]\t[105.13733677]\n",
      "5  \t6     \t[4.91337373]\t[105.21660179]\n",
      "6  \t6     \t[4.72220595]\t[5.17116452]  \n",
      "7  \t6     \t[4.5487223] \t[104.52984175]\n",
      "8  \t6     \t[4.41612722]\t[4.85704126]  \n",
      "9  \t6     \t[3.84501389]\t[4.87269547]  \n",
      "10 \t6     \t[3.46084442]\t[104.42818224]\n",
      "11 \t6     \t[2.47632102]\t[103.60676609]\n",
      "12 \t6     \t[2.0106941] \t[103.04161723]\n",
      "13 \t6     \t[1.86490829]\t[102.69145493]\n",
      "14 \t6     \t[1.86190408]\t[3.12328929]  \n",
      "15 \t6     \t[0.88805388]\t[2.38331998]  \n",
      "16 \t6     \t[1.17744371]\t[2.83161506]  \n",
      "17 \t6     \t[1.19302656]\t[103.22043082]\n",
      "18 \t6     \t[1.29293417]\t[102.21473297]\n",
      "19 \t6     \t[1.19394159]\t[2.88022431]  \n",
      "20 \t6     \t[1.02540036]\t[2.60911535]  \n",
      "21 \t6     \t[1.38082463]\t[3.96684434]  \n",
      "22 \t6     \t[1.48573336]\t[2.83594132]  \n",
      "23 \t6     \t[1.03673703]\t[1.60203476]  \n",
      "24 \t6     \t[0.83879587]\t[1.91025816]  \n",
      "25 \t6     \t[0.81566249]\t[1.59686783]  \n",
      "26 \t6     \t[0.89396894]\t[1.64476958]  \n",
      "27 \t6     \t[0.39590601]\t[1.27533939]  \n",
      "28 \t6     \t[0.7309444] \t[1.56425088]  \n",
      "29 \t6     \t[0.54762698]\t[0.93979905]  \n",
      "30 \t6     \t[0.44799254]\t[1.03513372]  \n",
      "31 \t6     \t[0.56062055]\t[0.95553493]  \n",
      "32 \t6     \t[0.48973579]\t[0.91005033]  \n",
      "33 \t6     \t[0.47811068]\t[1.04281594]  \n",
      "34 \t6     \t[0.38003304]\t[0.78181325]  \n",
      "35 \t6     \t[0.60083822]\t[1.88028087]  \n",
      "36 \t6     \t[0.23075483]\t[0.93996658]  \n",
      "37 \t6     \t[0.36187123]\t[0.74165455]  \n",
      "38 \t6     \t[0.1516643] \t[0.99215983]  \n",
      "39 \t6     \t[0.29171144]\t[0.91162338]  \n",
      "40 \t6     \t[0.28389929]\t[1.2476017]   \n",
      "41 \t6     \t[0.22185434]\t[1.14710901]  \n",
      "42 \t6     \t[0.31291146]\t[1.26909542]  \n",
      "43 \t6     \t[0.26312685]\t[0.91192875]  \n",
      "44 \t6     \t[0.2250861] \t[0.65974523]  \n",
      "45 \t6     \t[0.05503404]\t[0.45182941]  \n",
      "46 \t6     \t[0.0359975] \t[0.7107602]   \n",
      "47 \t6     \t[0.14382989]\t[0.56129024]  \n",
      "48 \t6     \t[0.05672176]\t[0.63637948]  \n",
      "49 \t6     \t[0.18598688]\t[0.49406183]  \n",
      "50 \t6     \t[0.14456214]\t[0.33804056]  \n",
      "51 \t6     \t[0.22739903]\t[0.47995192]  \n",
      "52 \t6     \t[0.16085269]\t[0.40567615]  \n",
      "53 \t6     \t[0.25896097]\t[0.33395067]  \n",
      "54 \t6     \t[0.04626403]\t[0.34805678]  \n",
      "55 \t6     \t[0.11617876]\t[0.33249662]  \n",
      "56 \t6     \t[0.1087405] \t[0.30835279]  \n",
      "57 \t6     \t[0.12000205]\t[0.29657603]  \n",
      "58 \t6     \t[0.11772714]\t[0.24824999]  \n",
      "59 \t6     \t[0.1119133] \t[0.17754175]  \n",
      "60 \t6     \t[0.16131447]\t[0.3363135]   \n",
      "61 \t6     \t[0.0876895] \t[0.26094591]  \n",
      "62 \t6     \t[0.09983204]\t[0.23175443]  \n",
      "63 \t6     \t[0.04730368]\t[0.18774218]  \n",
      "64 \t6     \t[0.06795729]\t[0.15368411]  \n",
      "65 \t6     \t[0.04799342]\t[0.20831462]  \n",
      "66 \t6     \t[0.0600741] \t[0.19363118]  \n",
      "67 \t6     \t[0.04982157]\t[0.14352204]  \n",
      "68 \t6     \t[0.02656846]\t[0.11065293]  \n",
      "69 \t6     \t[0.01061104]\t[0.07981511]  \n",
      "70 \t6     \t[0.01872487]\t[0.14070195]  \n",
      "71 \t6     \t[0.01370424]\t[0.08648238]  \n",
      "72 \t6     \t[0.03753728]\t[0.06766331]  \n",
      "73 \t6     \t[0.02028412]\t[0.0387875]   \n",
      "74 \t6     \t[0.01697831]\t[0.04384105]  \n",
      "75 \t6     \t[0.01941224]\t[0.04797697]  \n",
      "76 \t6     \t[0.00746216]\t[0.03670909]  \n",
      "77 \t6     \t[0.01556479]\t[0.04411528]  \n",
      "78 \t6     \t[0.01829206]\t[0.03509773]  \n",
      "79 \t6     \t[0.00815119]\t[0.02677834]  \n",
      "80 \t6     \t[0.0054632] \t[0.03321739]  \n",
      "81 \t6     \t[0.00675107]\t[0.02523414]  \n",
      "82 \t6     \t[0.00514188]\t[0.02327305]  \n",
      "83 \t6     \t[0.00256121]\t[0.02383128]  \n",
      "84 \t6     \t[0.00135912]\t[0.01586145]  \n",
      "85 \t6     \t[0.00442013]\t[0.01632232]  \n",
      "86 \t6     \t[0.00229398]\t[0.01668313]  \n",
      "87 \t6     \t[0.00256974]\t[0.01114329]  \n",
      "88 \t6     \t[0.00058047]\t[0.01210069]  \n",
      "89 \t6     \t[0.00403486]\t[0.00824202]  \n",
      "90 \t6     \t[0.00546329]\t[0.01426192]  \n",
      "91 \t6     \t[0.00292483]\t[0.00730826]  \n",
      "92 \t6     \t[0.00218668]\t[0.00818164]  \n",
      "93 \t6     \t[0.00330492]\t[0.00634678]  \n",
      "94 \t6     \t[0.00152978]\t[0.0062406]   \n",
      "95 \t6     \t[0.00212473]\t[0.00392791]  \n",
      "96 \t6     \t[0.00116476]\t[0.00476843]  \n",
      "97 \t6     \t[0.00132871]\t[0.00367901]  \n",
      "98 \t6     \t[0.00136092]\t[0.00413977]  \n",
      "99 \t6     \t[0.00093015]\t[0.00369288]  \n",
      "100\t6     \t[0.00086529]\t[0.00204238]  \n",
      "101\t6     \t[0.00078219]\t[0.00256942]  \n",
      "102\t6     \t[0.000662]  \t[0.00275717]  \n",
      "103\t6     \t[0.00059098]\t[0.00185917]  \n",
      "104\t6     \t[0.00083829]\t[0.00153079]  \n",
      "105\t6     \t[0.00038151]\t[0.00210242]  \n",
      "106\t6     \t[0.00089126]\t[0.00138179]  \n",
      "107\t6     \t[0.00043606]\t[0.00120609]  \n",
      "108\t6     \t[0.00050807]\t[0.00180505]  \n",
      "109\t6     \t[0.00037988]\t[0.00101052]  \n",
      "110\t6     \t[0.00037436]\t[0.00123456]  \n",
      "111\t6     \t[0.00037146]\t[0.00146154]  \n",
      "112\t6     \t[0.0002772] \t[0.00128965]  \n",
      "113\t6     \t[0.00023536]\t[0.00115217]  \n",
      "114\t6     \t[0.00040094]\t[0.00125906]  \n",
      "115\t6     \t[0.00040085]\t[0.00088488]  \n",
      "116\t6     \t[0.00050528]\t[0.00137044]  \n",
      "117\t6     \t[0.00029818]\t[0.00101034]  \n",
      "118\t6     \t[0.0004552] \t[0.00093988]  \n",
      "119\t6     \t[0.00032973]\t[0.00124643]  \n",
      "solving time: 3.110s\n",
      "gen\tnevals\tmin         \tmax         \n",
      "0  \t6     \t[3.48155868]\t[3.72994937]\n",
      "1  \t6     \t[3.38559569]\t[3.5712465] \n",
      "2  \t6     \t[3.28090734]\t[3.48467258]\n",
      "3  \t6     \t[3.06599641]\t[3.37197241]\n",
      "4  \t6     \t[2.9704467] \t[3.24992347]\n",
      "5  \t6     \t[2.73836988]\t[3.16523371]\n",
      "6  \t6     \t[2.40008594]\t[3.35849597]\n",
      "7  \t6     \t[1.98799314]\t[2.82993708]\n",
      "8  \t6     \t[1.48071152]\t[2.69872975]\n",
      "9  \t6     \t[0.74583972]\t[2.99584692]\n",
      "10 \t6     \t[0.58243626]\t[1.9274155] \n",
      "11 \t6     \t[0.45656607]\t[2.8652059] \n",
      "12 \t6     \t[0.50892375]\t[1.56859366]\n",
      "13 \t6     \t[0.69679703]\t[1.86440296]\n",
      "14 \t6     \t[0.45695321]\t[2.48946387]\n",
      "15 \t6     \t[0.4058693] \t[1.21392007]\n",
      "16 \t6     \t[0.55238962]\t[1.64063438]\n",
      "17 \t6     \t[0.344236]  \t[2.3486879] \n",
      "18 \t6     \t[0.32471424]\t[0.94995352]\n",
      "19 \t6     \t[0.34022011]\t[1.20262402]\n",
      "20 \t6     \t[0.32142297]\t[0.74828156]\n",
      "21 \t6     \t[0.41767348]\t[0.98658546]\n",
      "22 \t6     \t[0.44542321]\t[0.76070516]\n",
      "23 \t6     \t[0.3923812] \t[0.62039621]\n",
      "24 \t6     \t[0.16200484]\t[0.83214815]\n",
      "25 \t6     \t[0.12593447]\t[0.50211872]\n",
      "26 \t6     \t[0.22484465]\t[0.53064453]\n",
      "27 \t6     \t[0.34891768]\t[0.52957724]\n",
      "28 \t6     \t[0.27518473]\t[0.84755842]\n",
      "29 \t6     \t[0.18867928]\t[0.52114415]\n",
      "30 \t6     \t[0.19732992]\t[0.54511829]\n",
      "31 \t6     \t[0.23739337]\t[0.40907754]\n",
      "32 \t6     \t[0.22345855]\t[0.4522657] \n",
      "33 \t6     \t[0.22023621]\t[0.41991903]\n",
      "34 \t6     \t[0.18018115]\t[0.41067937]\n",
      "35 \t6     \t[0.17375672]\t[0.35128777]\n",
      "36 \t6     \t[0.13018337]\t[0.25312127]\n",
      "37 \t6     \t[0.16121825]\t[0.20789813]\n",
      "38 \t6     \t[0.07753631]\t[0.1961988] \n",
      "39 \t6     \t[0.07546949]\t[0.24450063]\n",
      "40 \t6     \t[0.08079425]\t[0.16947187]\n",
      "41 \t6     \t[0.04655438]\t[0.22843698]\n",
      "42 \t6     \t[0.11955921]\t[0.17844023]\n",
      "43 \t6     \t[0.0467053] \t[0.22656459]\n",
      "44 \t6     \t[0.0632372] \t[0.19343054]\n",
      "45 \t6     \t[0.04732934]\t[0.12439757]\n",
      "46 \t6     \t[0.05193529]\t[0.1287234] \n",
      "47 \t6     \t[0.02607869]\t[0.16098697]\n",
      "48 \t6     \t[0.0433681] \t[0.13931838]\n",
      "49 \t6     \t[0.05627994]\t[0.12275681]\n",
      "50 \t6     \t[0.05864034]\t[0.09248962]\n",
      "51 \t6     \t[0.02697841]\t[0.10561738]\n",
      "52 \t6     \t[0.01914421]\t[0.07224439]\n",
      "53 \t6     \t[0.01247335]\t[0.02914175]\n",
      "54 \t6     \t[0.02006005]\t[0.07695756]\n",
      "55 \t6     \t[0.01883796]\t[0.06041446]\n",
      "56 \t6     \t[0.00368023]\t[0.05398951]\n",
      "57 \t6     \t[0.01415031]\t[0.03761503]\n",
      "58 \t6     \t[0.00746415]\t[0.05175232]\n",
      "59 \t6     \t[0.02228879]\t[0.0476493] \n",
      "60 \t6     \t[0.02358586]\t[0.03577929]\n",
      "61 \t6     \t[0.02364906]\t[0.05388264]\n",
      "62 \t6     \t[0.01935475]\t[0.04506308]\n",
      "63 \t6     \t[0.00691318]\t[0.02749905]\n",
      "64 \t6     \t[0.0026658] \t[0.02061481]\n",
      "65 \t6     \t[0.00981711]\t[0.03350341]\n",
      "66 \t6     \t[0.00529165]\t[0.0285377] \n",
      "67 \t6     \t[0.00447128]\t[0.03515448]\n",
      "68 \t6     \t[0.00285558]\t[0.02242298]\n",
      "69 \t6     \t[0.00841996]\t[0.01684115]\n",
      "70 \t6     \t[0.00214997]\t[0.02669709]\n",
      "71 \t6     \t[0.00321075]\t[0.01735948]\n",
      "72 \t6     \t[0.00537205]\t[0.01325949]\n",
      "73 \t6     \t[0.01178029]\t[0.01508772]\n",
      "74 \t6     \t[0.00581124]\t[0.01872502]\n",
      "75 \t6     \t[0.00449327]\t[0.01282198]\n",
      "76 \t6     \t[0.00465729]\t[0.0154362] \n",
      "77 \t6     \t[0.00347798]\t[0.00874579]\n",
      "78 \t6     \t[0.00082947]\t[0.00926564]\n",
      "79 \t6     \t[0.0020981] \t[0.00642422]\n",
      "80 \t6     \t[0.00137344]\t[0.00653354]\n",
      "81 \t6     \t[0.00162835]\t[0.00641914]\n",
      "82 \t6     \t[0.00098885]\t[0.00496091]\n",
      "83 \t6     \t[0.0016278] \t[0.00489012]\n",
      "84 \t6     \t[0.0003076] \t[0.00459554]\n",
      "85 \t6     \t[0.00167736]\t[0.00462272]\n",
      "86 \t6     \t[0.00043508]\t[0.00687031]\n",
      "87 \t6     \t[0.00073089]\t[0.00233365]\n",
      "88 \t6     \t[0.00071295]\t[0.0022378] \n",
      "89 \t6     \t[0.00100157]\t[0.00231107]\n",
      "90 \t6     \t[0.00048574]\t[0.00266458]\n",
      "91 \t6     \t[0.00071098]\t[0.00129288]\n",
      "92 \t6     \t[0.00081759]\t[0.0019356] \n",
      "93 \t6     \t[0.00035981]\t[0.00172406]\n",
      "94 \t6     \t[0.00047456]\t[0.00115987]\n",
      "95 \t6     \t[0.00071256]\t[0.00111325]\n",
      "96 \t6     \t[0.00034846]\t[0.00132723]\n"
     ]
    },
    {
     "name": "stdout",
     "output_type": "stream",
     "text": [
      "97 \t6     \t[0.00037337]\t[0.00083784]\n",
      "98 \t6     \t[0.00038358]\t[0.00088348]\n",
      "99 \t6     \t[8.31041808e-05]\t[0.00046369]\n",
      "100\t6     \t[0.00010821]    \t[0.00055583]\n",
      "101\t6     \t[0.0002338]     \t[0.00070061]\n",
      "102\t6     \t[9.10865068e-05]\t[0.000494]  \n",
      "103\t6     \t[0.00011998]    \t[0.00042662]\n",
      "104\t6     \t[9.16675255e-05]\t[0.00035846]\n",
      "105\t6     \t[6.07041046e-05]\t[0.00034246]\n",
      "106\t6     \t[5.19402412e-05]\t[0.00028057]\n",
      "107\t6     \t[6.32456682e-05]\t[0.00022546]\n",
      "108\t6     \t[0.00011448]    \t[0.00033668]\n",
      "109\t6     \t[0.00010247]    \t[0.00027816]\n",
      "110\t6     \t[2.72319526e-05]\t[0.00033404]\n",
      "111\t6     \t[9.63995633e-05]\t[0.00016585]\n",
      "112\t6     \t[7.17889388e-05]\t[0.00022638]\n",
      "113\t6     \t[6.16693517e-05]\t[0.00022243]\n",
      "114\t6     \t[7.99914763e-05]\t[0.00021201]\n",
      "115\t6     \t[3.30646257e-05]\t[7.73671044e-05]\n",
      "116\t6     \t[3.50175132e-05]\t[0.0001597]     \n",
      "117\t6     \t[3.31984495e-05]\t[0.00012193]    \n",
      "118\t6     \t[4.75775013e-05]\t[0.00010964]    \n",
      "119\t6     \t[2.61902565e-05]\t[8.79247508e-05]\n",
      "solving time: 2.820s\n",
      "[38.76348589528121, 45.42552068114847, -89.51629816531555, 20.298432171110093, 9.17749294983888, 10.852658332587389, 45.66268217653502, -66.26299328702338, -0.531880995821858, 31.68443132261541]\n"
     ]
    }
   ],
   "source": [
    "solver_params = {\"IND_DIM\":5, \"NPOP\":6, \"NGEN\":120}\n",
    "init_theta = [0., 0., 0., 0., 0.]\n",
    "pos_goals = [np.array([[5, 5, 1]]), np.array([[3, 3, 3]])]\n",
    "\n",
    "commands = solve_sequence(solver_params, init_theta, pos_goals)\n",
    "print(commands)"
   ]
  },
  {
   "cell_type": "code",
   "execution_count": 61,
   "metadata": {
    "ExecuteTime": {
     "end_time": "2020-05-08T06:29:15.517027Z",
     "start_time": "2020-05-08T06:29:15.509031Z"
    }
   },
   "outputs": [],
   "source": [
    "def input_sequence(commands, length=10, interval=0):\n",
    "    input_angles = []\n",
    "    steps = int(len(commands)/5)\n",
    "    for i in range(steps):\n",
    "        if i!=0: input_angles += [commands[5*(i-1)],commands[5*(i-1)+1],commands[5*(i-1)+2],commands[5*(i-1)+3],commands[5*(i-1)+4]]*interval\n",
    "        for j in range(length):\n",
    "            for k in range(i*5, (i+1)*5):\n",
    "                start = 0 if i==0 else commands[k-5]\n",
    "                input_angles.append(np.linspace(start, commands[k], length)[j])\n",
    "\n",
    "    return input_angles"
   ]
  },
  {
   "cell_type": "code",
   "execution_count": 66,
   "metadata": {
    "ExecuteTime": {
     "end_time": "2020-05-08T07:04:25.397938Z",
     "start_time": "2020-05-08T07:04:24.474117Z"
    }
   },
   "outputs": [
    {
     "data": {
      "text/plain": [
       "tensor([[2.9282, 1.8237, 0.5625]], device='cuda:0', grad_fn=<AddmmBackward>)"
      ]
     },
     "execution_count": 66,
     "metadata": {},
     "output_type": "execute_result"
    }
   ],
   "source": [
    "# commands = [30.,30.,-30.,30.,30.]\n",
    "# model_fk(torch.tensor([commands])/360)"
   ]
  },
  {
   "cell_type": "code",
   "execution_count": 69,
   "metadata": {
    "ExecuteTime": {
     "end_time": "2020-05-08T07:10:04.625799Z",
     "start_time": "2020-05-08T07:10:04.524865Z"
    }
   },
   "outputs": [
    {
     "data": {
      "text/plain": [
       "10124"
      ]
     },
     "execution_count": 69,
     "metadata": {},
     "output_type": "execute_result"
    }
   ],
   "source": [
    "HOST = '127.0.0.1'\n",
    "PORT = 50008\n",
    "client = socket.socket(socket.AF_INET, socket.SOCK_DGRAM)\n",
    "\n",
    "command_sequense = input_sequence(commands, length=50, interval=10)\n",
    "for i, command in enumerate(command_sequense):\n",
    "    signal = str(command) if i==0 else signal+\",\"+str(command)\n",
    "    \n",
    "client.sendto(signal.encode('utf-8'),(HOST,PORT))"
   ]
  }
 ],
 "metadata": {
  "kernelspec": {
   "display_name": "Python 3",
   "language": "python",
   "name": "python3"
  },
  "language_info": {
   "codemirror_mode": {
    "name": "ipython",
    "version": 3
   },
   "file_extension": ".py",
   "mimetype": "text/x-python",
   "name": "python",
   "nbconvert_exporter": "python",
   "pygments_lexer": "ipython3",
   "version": "3.8.2"
  },
  "toc": {
   "base_numbering": 1,
   "nav_menu": {},
   "number_sections": true,
   "sideBar": true,
   "skip_h1_title": false,
   "title_cell": "Table of Contents",
   "title_sidebar": "Contents",
   "toc_cell": false,
   "toc_position": {},
   "toc_section_display": true,
   "toc_window_display": false
  },
  "varInspector": {
   "cols": {
    "lenName": 16,
    "lenType": 16,
    "lenVar": 40
   },
   "kernels_config": {
    "python": {
     "delete_cmd_postfix": "",
     "delete_cmd_prefix": "del ",
     "library": "var_list.py",
     "varRefreshCmd": "print(var_dic_list())"
    },
    "r": {
     "delete_cmd_postfix": ") ",
     "delete_cmd_prefix": "rm(",
     "library": "var_list.r",
     "varRefreshCmd": "cat(var_dic_list()) "
    }
   },
   "types_to_exclude": [
    "module",
    "function",
    "builtin_function_or_method",
    "instance",
    "_Feature"
   ],
   "window_display": false
  }
 },
 "nbformat": 4,
 "nbformat_minor": 4
}
